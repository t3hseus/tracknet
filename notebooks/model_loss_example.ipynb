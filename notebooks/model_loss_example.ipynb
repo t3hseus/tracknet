{
 "cells": [
  {
   "cell_type": "code",
   "execution_count": 1,
   "metadata": {},
   "outputs": [],
   "source": [
    "import os\n",
    "from pathlib import Path\n",
    "\n",
    "# change working directory to make src visible\n",
    "os.chdir(Path.cwd().parent)"
   ]
  },
  {
   "cell_type": "markdown",
   "metadata": {},
   "source": [
    "## Prepare dataset"
   ]
  },
  {
   "cell_type": "code",
   "execution_count": 2,
   "metadata": {},
   "outputs": [],
   "source": [
    "from torch.utils.data import DataLoader\n",
    "from src.tracknet.data.dataset import TrackMLTracksDataset\n",
    "from src.tracknet.data.transformations import MinMaxNormalizeXYZ, DropRepeatedLayerHits\n",
    "from src.tracknet.data.utils import collate_fn\n",
    "\n",
    "BATCH_SIZE = 4\n",
    "\n",
    "val_dataset = TrackMLTracksDataset(\n",
    "    data_dirs=Path(\"data/trackml/train_100_events\"),\n",
    "    blacklist_dir=Path(\"data/trackml/blacklist_training\"),\n",
    "    min_hits=3,  # TODO: this should be supplemented by filter\n",
    "    validation_split=0.1,\n",
    "    split=\"validation\",\n",
    "    transforms=[\n",
    "        DropRepeatedLayerHits(),\n",
    "        MinMaxNormalizeXYZ(\n",
    "            min_xyz=(-1000.0, -1000.0, -3000.0),\n",
    "            max_xyz=(1000.0, 1000.0, 3000.0)\n",
    "        )]\n",
    ")\n",
    "\n",
    "val_loader = DataLoader(\n",
    "    val_dataset,\n",
    "    batch_size=BATCH_SIZE,\n",
    "    collate_fn=collate_fn,\n",
    "    num_workers=4,\n",
    "    persistent_workers=True,\n",
    ")"
   ]
  },
  {
   "cell_type": "markdown",
   "metadata": {},
   "source": [
    "## Initialize the model and loss"
   ]
  },
  {
   "cell_type": "code",
   "execution_count": 3,
   "metadata": {},
   "outputs": [],
   "source": [
    "from src.tracknet.model import StepAheadTrackNET\n",
    "from src.tracknet.loss import TrackNetLoss, PointInAreaLoss, AreaSizeLoss\n",
    "\n",
    "model = StepAheadTrackNET()\n",
    "criterion = TrackNetLoss()"
   ]
  },
  {
   "cell_type": "markdown",
   "metadata": {},
   "source": [
    "## Calculate outputs and loss value"
   ]
  },
  {
   "cell_type": "code",
   "execution_count": 4,
   "metadata": {},
   "outputs": [
    {
     "name": "stdout",
     "output_type": "stream",
     "text": [
      "Loss: 1.2082741260528564\n"
     ]
    }
   ],
   "source": [
    "for batch in val_loader:\n",
    "    targets = batch.pop(\"targets\")\n",
    "    target_mask = batch.pop(\"target_mask\")\n",
    "    outputs = model(**batch)\n",
    "    loss = criterion(outputs, targets, target_mask)\n",
    "    print(f\"Loss: {loss.item()}\")\n",
    "    break"
   ]
  },
  {
   "cell_type": "code",
   "execution_count": 10,
   "metadata": {},
   "outputs": [
    {
     "name": "stdout",
     "output_type": "stream",
     "text": [
      "torch.Size([4, 17]) torch.Size([4, 17]) torch.Size([4, 17])\n"
     ]
    }
   ],
   "source": [
    "point_in_area_loss = PointInAreaLoss()\n",
    "area_size_loss = AreaSizeLoss()\n",
    "\n",
    "points_in_area = point_in_area_loss(outputs, targets)\n",
    "area_size = area_size_loss(outputs)\n",
    "\n",
    "print(points_in_area.shape, area_size.shape, target_mask.shape)"
   ]
  }
 ],
 "metadata": {
  "kernelspec": {
   "display_name": "tracknet",
   "language": "python",
   "name": "python3"
  },
  "language_info": {
   "codemirror_mode": {
    "name": "ipython",
    "version": 3
   },
   "file_extension": ".py",
   "mimetype": "text/x-python",
   "name": "python",
   "nbconvert_exporter": "python",
   "pygments_lexer": "ipython3",
   "version": "3.12.8"
  }
 },
 "nbformat": 4,
 "nbformat_minor": 2
}
