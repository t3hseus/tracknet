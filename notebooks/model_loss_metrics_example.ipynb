{
 "cells": [
  {
   "cell_type": "code",
   "execution_count": 1,
   "metadata": {},
   "outputs": [],
   "source": [
    "import os\n",
    "from pathlib import Path\n",
    "\n",
    "# change working directory to make src visible\n",
    "os.chdir(Path.cwd().parent)"
   ]
  },
  {
   "cell_type": "markdown",
   "metadata": {},
   "source": [
    "## Prepare dataset"
   ]
  },
  {
   "cell_type": "code",
   "execution_count": 2,
   "metadata": {},
   "outputs": [],
   "source": [
    "from torch.utils.data import DataLoader\n",
    "from src.tracknet.data.dataset import TrackMLTracksDataset\n",
    "from src.tracknet.data.transformations import MinMaxNormalizeXYZ, DropRepeatedLayerHits\n",
    "from src.tracknet.data.filters import MinHitsFilter, PtFilter, FirstLayerFilter\n",
    "from src.tracknet.data.collate import collate_fn\n",
    "\n",
    "BATCH_SIZE = 4\n",
    "hits_normalizer = MinMaxNormalizeXYZ(\n",
    "    min_xyz=(-1000.0, -1000.0, -3000.0),\n",
    "    max_xyz=(1000.0, 1000.0, 3000.0)\n",
    ")\n",
    "\n",
    "val_dataset = TrackMLTracksDataset(\n",
    "    data_dirs=Path(\"data/trackml/train_100_events\"),\n",
    "    blacklist_dir=Path(\"data/trackml/blacklist_training\"),\n",
    "    validation_split=0.1,\n",
    "    split=\"validation\",\n",
    "    transforms=[\n",
    "        DropRepeatedLayerHits(),\n",
    "        hits_normalizer\n",
    "    ],\n",
    "    filters=[\n",
    "        MinHitsFilter(min_hits=3),\n",
    "        PtFilter(min_pt=1.0),\n",
    "        FirstLayerFilter(\n",
    "            {(8, 2), (7, 14), (9, 2)}\n",
    "        )\n",
    "    ]\n",
    ")\n",
    "\n",
    "val_loader = DataLoader(\n",
    "    val_dataset,\n",
    "    batch_size=BATCH_SIZE,\n",
    "    collate_fn=collate_fn,\n",
    "    num_workers=4,\n",
    "    persistent_workers=True,\n",
    ")"
   ]
  },
  {
   "cell_type": "markdown",
   "metadata": {},
   "source": [
    "## Initialize the model and loss"
   ]
  },
  {
   "cell_type": "code",
   "execution_count": 3,
   "metadata": {},
   "outputs": [],
   "source": [
    "from src.tracknet.model import StepAheadTrackNET\n",
    "from src.tracknet.loss import TrackNetLoss\n",
    "# , HitDensityMetric2\n",
    "from src.tracknet.metrics import SearchAreaMetric, HitEfficiencyMetric, HitDensityMetric\n",
    "\n",
    "model = StepAheadTrackNET()\n",
    "criterion = TrackNetLoss()\n",
    "t1_area_metric = SearchAreaMetric(\"t1\")\n",
    "t2_area_metric = SearchAreaMetric(\"t2\")\n",
    "t1_efficiency = HitEfficiencyMetric(\"t1\")\n",
    "t2_efficiency = HitEfficiencyMetric(\"t2\")\n",
    "t1_density = HitDensityMetric(\n",
    "    \"outputs/hit_density_stats.npz\", \"t1\", normalizer=hits_normalizer)\n",
    "t2_density = HitDensityMetric(\n",
    "    \"outputs/hit_density_stats.npz\", \"t2\", normalizer=hits_normalizer)\n",
    "\n",
    "# t1_density2 = HitDensityMetric2(\n",
    "#     \"outputs/hit_density_stats.npz\", \"t1\", normalizer=hits_normalizer)\n",
    "# t2_density2 = HitDensityMetric2(\n",
    "#     \"outputs/hit_density_stats.npz\", \"t2\", normalizer=hits_normalizer)"
   ]
  },
  {
   "cell_type": "markdown",
   "metadata": {},
   "source": [
    "## Calculate outputs and loss value"
   ]
  },
  {
   "cell_type": "code",
   "execution_count": 7,
   "metadata": {},
   "outputs": [
    {
     "name": "stdout",
     "output_type": "stream",
     "text": [
      "Loss: 1.2560718059539795\n",
      "Metrics:\n",
      "\tt1_area: 1.4762532711029053, t1_eff: 0.0357142873108387, t1_density: 797.7449951171875\n",
      "\tt2_area: 1.3770127296447754, t2_eff: 0.0, t2_density: 625.7937622070312\n",
      "\t\n"
     ]
    }
   ],
   "source": [
    "for batch in val_loader:\n",
    "    targets = batch.pop(\"targets\")\n",
    "    target_mask = batch.pop(\"target_mask\")\n",
    "    outputs = model(**batch)\n",
    "    # calculate loss\n",
    "    loss = criterion(outputs, targets, target_mask)\n",
    "    print(f\"Loss: {loss.item()}\")\n",
    "    # calculate metrics\n",
    "    t1_area = t1_area_metric(outputs, target_mask)\n",
    "    t2_area = t2_area_metric(outputs, target_mask)\n",
    "    t1_eff = t1_efficiency(outputs, targets, target_mask)\n",
    "    t2_eff = t2_efficiency(outputs, targets, target_mask)\n",
    "    t1_density_val = t1_density(outputs, target_mask)\n",
    "    t2_density_val = t2_density(outputs, target_mask)\n",
    "    print(f\"Metrics:\\n\\tt1_area: {t1_area}, t1_eff: {t1_eff}, t1_density: {t1_density_val}\\n\\t\"\n",
    "          f\"t2_area: {t2_area}, t2_eff: {t2_eff}, t2_density: {t2_density_val}\\n\\t\")\n",
    "    break"
   ]
  }
 ],
 "metadata": {
  "kernelspec": {
   "display_name": "tracknet",
   "language": "python",
   "name": "python3"
  },
  "language_info": {
   "codemirror_mode": {
    "name": "ipython",
    "version": 3
   },
   "file_extension": ".py",
   "mimetype": "text/x-python",
   "name": "python",
   "nbconvert_exporter": "python",
   "pygments_lexer": "ipython3",
   "version": "3.12.8"
  }
 },
 "nbformat": 4,
 "nbformat_minor": 2
}
