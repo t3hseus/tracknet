{
 "cells": [
  {
   "cell_type": "code",
   "execution_count": 1,
   "metadata": {},
   "outputs": [],
   "source": [
    "import os\n",
    "from pathlib import Path\n",
    "\n",
    "# change working directory to make src visible\n",
    "os.chdir(Path.cwd().parent)"
   ]
  },
  {
   "cell_type": "markdown",
   "metadata": {},
   "source": [
    "## Usage of Tracks Dataset"
   ]
  },
  {
   "cell_type": "code",
   "execution_count": 2,
   "metadata": {},
   "outputs": [],
   "source": [
    "from src.tracknet.data.dataset import TrackMLTracksDataset\n",
    "\n",
    "dataset = TrackMLTracksDataset(\n",
    "    data_dirs=Path(\"data/trackml/train_100_events\"),\n",
    "    blacklist_dir=Path(\"data/trackml/blacklist_training\"),\n",
    "    validation_split=0.1,\n",
    ")"
   ]
  },
  {
   "cell_type": "code",
   "execution_count": 3,
   "metadata": {},
   "outputs": [
    {
     "name": "stderr",
     "output_type": "stream",
     "text": [
      "10000it [00:03, 2641.51it/s]"
     ]
    },
    {
     "name": "stdout",
     "output_type": "stream",
     "text": [
      "Track 1296 with 12 hits, pT=0.23\n"
     ]
    },
    {
     "name": "stderr",
     "output_type": "stream",
     "text": [
      "\n"
     ]
    },
    {
     "data": {
      "text/plain": [
       "Track(\n",
       "\tevent_id=event000001011,\n",
       "\ttrack_id=1296,\n",
       "\tparticle_id=112591983549087744,\n",
       "\thits=12,\n",
       "\tpx=0.10, py=0.21, pz=-1.70,\n",
       "\tpT=0.23, charge=1,\n",
       "\tdetector_info=[\n",
       "\t\tvol8-l2-m59\n",
       "\t\tvol7-l14-m71\n",
       "\t\tvol7-l12-m71\n",
       "\t\tvol7-l10-m72\n",
       "\t\tvol7-l8-m70\n",
       "\t\tvol7-l8-m72\n",
       "\t\tvol7-l6-m70\n",
       "\t\tvol12-l8-m106\n",
       "\t\tvol12-l6-m106\n",
       "\t\tvol12-l4-m106\n",
       "\t\tvol12-l2-m103\n",
       "\t\tvol12-l2-m105\n",
       "\t]\n",
       ")"
      ]
     },
     "execution_count": 3,
     "metadata": {},
     "output_type": "execute_result"
    }
   ],
   "source": [
    "from tqdm import tqdm\n",
    "\n",
    "for i, track in enumerate(tqdm(dataset)):\n",
    "    if i == 10000:\n",
    "        break\n",
    "print(track)\n",
    "track"
   ]
  },
  {
   "cell_type": "code",
   "execution_count": 4,
   "metadata": {},
   "outputs": [
    {
     "data": {
      "text/plain": [
       "array([[   15.08  ,    27.6324,  -230.094 ],\n",
       "       [   44.1775,    68.8854,  -602.    ],\n",
       "       [   52.9455,    79.3657,  -702.    ],\n",
       "       [   64.0962,    91.6667,  -822.    ],\n",
       "       [   77.2527,   105.202 ,  -958.    ],\n",
       "       [   77.6356,   105.593 ,  -962.    ],\n",
       "       [   91.4131,   118.562 , -1098.    ],\n",
       "       [  169.966 ,   175.698 , -1795.5   ],\n",
       "       [  211.342 ,   198.291 , -2145.5   ],\n",
       "       [  258.921 ,   223.052 , -2545.5   ],\n",
       "       [  303.762 ,   248.084 , -2948.5   ],\n",
       "       [  304.467 ,   248.484 , -2954.5   ]], dtype=float32)"
      ]
     },
     "execution_count": 4,
     "metadata": {},
     "output_type": "execute_result"
    }
   ],
   "source": [
    "track.hits_xyz"
   ]
  },
  {
   "cell_type": "code",
   "execution_count": 5,
   "metadata": {},
   "outputs": [
    {
     "data": {
      "text/plain": [
       "array([[ 31.479452  ,   1.0712326 ,   3.0056255 ],\n",
       "       [ 81.83428   ,   1.0005481 ,   3.0064836 ],\n",
       "       [ 95.405136  ,   0.9824882 ,   3.0065155 ],\n",
       "       [111.853065  ,   0.96058667,   3.006349  ],\n",
       "       [130.51988   ,   0.9374014 ,   3.0061843 ],\n",
       "       [131.06169   ,   0.9368124 ,   3.0061874 ],\n",
       "       [149.71072   ,   0.9139806 ,   3.0060797 ],\n",
       "       [244.45496   ,   0.8019792 ,   3.006276  ],\n",
       "       [289.80124   ,   0.75354874,   3.0073314 ],\n",
       "       [341.74884   ,   0.7111139 ,   3.0081346 ],\n",
       "       [392.19513   ,   0.6848444 ,   3.0093539 ],\n",
       "       [392.99423   ,   0.6844979 ,   3.0093534 ]], dtype=float32)"
      ]
     },
     "execution_count": 5,
     "metadata": {},
     "output_type": "execute_result"
    }
   ],
   "source": [
    "track.hits_cylindrical"
   ]
  },
  {
   "cell_type": "markdown",
   "metadata": {},
   "source": [
    "## Dataset with transforms and filters"
   ]
  },
  {
   "cell_type": "code",
   "execution_count": 6,
   "metadata": {},
   "outputs": [],
   "source": [
    "from src.tracknet.data.dataset import TrackMLTracksDataset\n",
    "from src.tracknet.data.transformations import MinMaxNormalizeXYZ, DropRepeatedLayerHits\n",
    "from src.tracknet.data.filters import MinHitsFilter, PtFilter, FirstLayerFilter\n",
    "\n",
    "\n",
    "dataset = TrackMLTracksDataset(\n",
    "    data_dirs=Path(\"data/trackml/train_100_events\"),\n",
    "    blacklist_dir=Path(\"data/trackml/blacklist_training\"),\n",
    "    validation_split=0.1,\n",
    "    transforms=[\n",
    "        DropRepeatedLayerHits(),\n",
    "        MinMaxNormalizeXYZ(\n",
    "            min_xyz=(-1000.0, -1000.0, -3000.0),\n",
    "            max_xyz=(1000.0, 1000.0, 3000.0)\n",
    "        )\n",
    "    ],\n",
    "    filters=[\n",
    "        MinHitsFilter(min_hits=3),\n",
    "        PtFilter(min_pt=1.0),\n",
    "        FirstLayerFilter(\n",
    "            {(8, 2), (7, 14), (9, 2)}\n",
    "        )\n",
    "    ]\n",
    ")"
   ]
  },
  {
   "cell_type": "code",
   "execution_count": 7,
   "metadata": {},
   "outputs": [
    {
     "name": "stderr",
     "output_type": "stream",
     "text": [
      "10000it [00:20, 481.48it/s]"
     ]
    },
    {
     "name": "stdout",
     "output_type": "stream",
     "text": [
      "Track 5100 with 4 hits, pT=1.53\n"
     ]
    },
    {
     "name": "stderr",
     "output_type": "stream",
     "text": [
      "\n"
     ]
    },
    {
     "data": {
      "text/plain": [
       "Track(\n",
       "\tevent_id=event000001019,\n",
       "\ttrack_id=5100,\n",
       "\tparticle_id=414337006873608192,\n",
       "\thits=4,\n",
       "\tpx=1.41, py=-0.58, pz=3.14,\n",
       "\tpT=1.53, charge=-1,\n",
       "\tdetector_info=[\n",
       "\t\tvol8-l2-m135\n",
       "\t\tvol8-l4-m302\n",
       "\t\tvol8-l6-m543\n",
       "\t\tvol8-l8-m971\n",
       "\t]\n",
       ")"
      ]
     },
     "execution_count": 7,
     "metadata": {},
     "output_type": "execute_result"
    }
   ],
   "source": [
    "from tqdm import tqdm\n",
    "\n",
    "for i, track in enumerate(tqdm(dataset)):\n",
    "    if i == 10000:\n",
    "        break\n",
    "print(track)\n",
    "track"
   ]
  },
  {
   "cell_type": "code",
   "execution_count": 8,
   "metadata": {},
   "outputs": [
    {
     "data": {
      "text/plain": [
       "array([[0.5148276 , 0.49398863, 0.5130898 ],\n",
       "       [0.5330384 , 0.4869121 , 0.5265055 ],\n",
       "       [0.553887  , 0.479182  , 0.5417965 ],\n",
       "       [0.580604  , 0.4697951 , 0.5612945 ]], dtype=float32)"
      ]
     },
     "execution_count": 8,
     "metadata": {},
     "output_type": "execute_result"
    }
   ],
   "source": [
    "track.hits_xyz"
   ]
  },
  {
   "cell_type": "code",
   "execution_count": 9,
   "metadata": {},
   "outputs": [
    {
     "data": {
      "text/plain": [
       "array([[ 31.999722  ,  -0.38516566,   0.38690275],\n",
       "       [ 71.07261   ,  -0.37717617,   0.42027697],\n",
       "       [115.53697   ,  -0.36866397,   0.4317265 ],\n",
       "       [172.15504   ,  -0.35853574,   0.43781093]], dtype=float32)"
      ]
     },
     "execution_count": 9,
     "metadata": {},
     "output_type": "execute_result"
    }
   ],
   "source": [
    "track.hits_cylindrical"
   ]
  },
  {
   "cell_type": "markdown",
   "metadata": {},
   "source": [
    "## Usage in a DataLoader"
   ]
  },
  {
   "cell_type": "code",
   "execution_count": 10,
   "metadata": {},
   "outputs": [],
   "source": [
    "from torch.utils.data import DataLoader\n",
    "from src.tracknet.data.dataset import TrackMLTracksDataset\n",
    "from src.tracknet.data.transformations import MinMaxNormalizeXYZ, DropRepeatedLayerHits\n",
    "from src.tracknet.data.filters import MinHitsFilter, PtFilter, FirstLayerFilter\n",
    "from src.tracknet.data.collate import collate_fn\n",
    "\n",
    "BATCH_SIZE = 4\n",
    "\n",
    "val_dataset = TrackMLTracksDataset(\n",
    "    data_dirs=Path(\"data/trackml/train_100_events\"),\n",
    "    blacklist_dir=Path(\"data/trackml/blacklist_training\"),\n",
    "    validation_split=0.1,\n",
    "    split=\"validation\",\n",
    "    transforms=[\n",
    "        DropRepeatedLayerHits(),\n",
    "        MinMaxNormalizeXYZ(\n",
    "            min_xyz=(-1000.0, -1000.0, -3000.0),\n",
    "            max_xyz=(1000.0, 1000.0, 3000.0)\n",
    "        )\n",
    "    ],\n",
    "    filters=[\n",
    "        MinHitsFilter(min_hits=3),\n",
    "        PtFilter(min_pt=1.0),\n",
    "        FirstLayerFilter(\n",
    "            {(8, 2), (7, 14), (9, 2)}\n",
    "        )\n",
    "    ]\n",
    ")\n",
    "\n",
    "val_loader = DataLoader(\n",
    "    val_dataset,\n",
    "    batch_size=BATCH_SIZE,\n",
    "    collate_fn=collate_fn,\n",
    "    num_workers=4,\n",
    "    persistent_workers=True,\n",
    ")"
   ]
  },
  {
   "cell_type": "code",
   "execution_count": 11,
   "metadata": {},
   "outputs": [
    {
     "name": "stdout",
     "output_type": "stream",
     "text": [
      "tensor([[0.4874, 0.4901, 0.4956],\n",
      "        [0.4713, 0.4778, 0.4899],\n",
      "        [0.4537, 0.4650, 0.4840],\n",
      "        [0.4309, 0.4492, 0.4763],\n",
      "        [0.3918, 0.4240, 0.4635],\n",
      "        [0.3516, 0.4007, 0.4506],\n",
      "        [0.2857, 0.3674, 0.4302],\n",
      "        [0.2140, 0.3375, 0.4089],\n",
      "        [0.1376, 0.3122, 0.3861]])\n",
      "9\n",
      "tensor([[0.4713, 0.4778, 0.4899],\n",
      "        [0.4537, 0.4650, 0.4840],\n",
      "        [0.4309, 0.4492, 0.4763],\n",
      "        [0.3918, 0.4240, 0.4635],\n",
      "        [0.3516, 0.4007, 0.4506],\n",
      "        [0.2857, 0.3674, 0.4302],\n",
      "        [0.2140, 0.3375, 0.4089],\n",
      "        [0.1376, 0.3122, 0.3861],\n",
      "        [0.0358, 0.2880, 0.3582]])\n",
      "\n",
      "tensor([[0.4856, 0.4929, 0.4996],\n",
      "        [0.4673, 0.4842, 0.4990],\n",
      "        [0.4477, 0.4751, 0.4985],\n",
      "        [0.4219, 0.4636, 0.4977],\n",
      "        [0.3802, 0.4458, 0.4965],\n",
      "        [0.3338, 0.4274, 0.4953],\n",
      "        [0.2672, 0.4034, 0.4934],\n",
      "        [0.1946, 0.3802, 0.4913],\n",
      "        [0.1152, 0.3585, 0.4891]])\n",
      "9\n",
      "tensor([[0.4673, 0.4842, 0.4990],\n",
      "        [0.4477, 0.4751, 0.4985],\n",
      "        [0.4219, 0.4636, 0.4977],\n",
      "        [0.3802, 0.4458, 0.4965],\n",
      "        [0.3338, 0.4274, 0.4953],\n",
      "        [0.2672, 0.4034, 0.4934],\n",
      "        [0.1946, 0.3802, 0.4913],\n",
      "        [0.1152, 0.3585, 0.4891],\n",
      "        [0.0164, 0.3364, 0.4873]])\n",
      "\n",
      "tensor([[0.4705, 0.4986, 0.5996],\n",
      "        [0.4654, 0.4983, 0.6171],\n",
      "        [0.4594, 0.4980, 0.6371],\n",
      "        [0.4526, 0.4977, 0.6604],\n",
      "        [0.4457, 0.4974, 0.6837],\n",
      "        [0.4358, 0.4969, 0.7170],\n",
      "        [0.4260, 0.4965, 0.7503],\n",
      "        [0.3744, 0.4941, 0.9247],\n",
      "        [0.0000, 0.0000, 0.0000]])\n",
      "8\n",
      "tensor([[0.4654, 0.4983, 0.6171],\n",
      "        [0.4594, 0.4980, 0.6371],\n",
      "        [0.4526, 0.4977, 0.6604],\n",
      "        [0.4457, 0.4974, 0.6837],\n",
      "        [0.4358, 0.4969, 0.7170],\n",
      "        [0.4260, 0.4965, 0.7503],\n",
      "        [0.3744, 0.4941, 0.9247],\n",
      "        [0.3547, 0.4932, 0.9914],\n",
      "        [0.0000, 0.0000, 0.0000]])\n",
      "\n",
      "tensor([[0.4905, 0.5126, 0.5049],\n",
      "        [0.4780, 0.5286, 0.5113],\n",
      "        [0.4641, 0.5457, 0.5182],\n",
      "        [0.4462, 0.5664, 0.5268],\n",
      "        [0.4154, 0.5996, 0.5410],\n",
      "        [0.3806, 0.6337, 0.5562],\n",
      "        [0.3285, 0.6790, 0.5778],\n",
      "        [0.2610, 0.7291, 0.6040],\n",
      "        [0.1942, 0.7705, 0.6283]])\n",
      "9\n",
      "tensor([[0.4780, 0.5286, 0.5113],\n",
      "        [0.4641, 0.5457, 0.5182],\n",
      "        [0.4462, 0.5664, 0.5268],\n",
      "        [0.4154, 0.5996, 0.5410],\n",
      "        [0.3806, 0.6337, 0.5562],\n",
      "        [0.3285, 0.6790, 0.5778],\n",
      "        [0.2610, 0.7291, 0.6040],\n",
      "        [0.1942, 0.7705, 0.6283],\n",
      "        [0.1007, 0.8174, 0.6608]])\n",
      "\n"
     ]
    }
   ],
   "source": [
    "for step, batch in enumerate(val_loader):\n",
    "    if step == 10:\n",
    "        break\n",
    "\n",
    "for i in range(BATCH_SIZE):\n",
    "    print(batch[\"inputs\"][i])\n",
    "    print(batch[\"input_lengths\"][i])\n",
    "    print(batch[\"targets\"][i])\n",
    "    print()"
   ]
  },
  {
   "cell_type": "code",
   "execution_count": 12,
   "metadata": {},
   "outputs": [
    {
     "name": "stderr",
     "output_type": "stream",
     "text": [
      "10780it [00:24, 443.13it/s]\n"
     ]
    }
   ],
   "source": [
    "from tqdm import tqdm\n",
    "\n",
    "for i, batch in enumerate(tqdm(val_loader)):\n",
    "    _ = batch[\"inputs\"]"
   ]
  },
  {
   "cell_type": "code",
   "execution_count": 13,
   "metadata": {},
   "outputs": [
    {
     "data": {
      "text/plain": [
       "[9, 9, 8, 2]"
      ]
     },
     "execution_count": 13,
     "metadata": {},
     "output_type": "execute_result"
    }
   ],
   "source": [
    "for step, batch in enumerate(val_loader):\n",
    "    if 2 in set(batch[\"input_lengths\"]):  # track with 3 hits\n",
    "        break\n",
    "\n",
    "batch[\"input_lengths\"]"
   ]
  },
  {
   "cell_type": "code",
   "execution_count": 14,
   "metadata": {},
   "outputs": [
    {
     "data": {
      "text/plain": [
       "(tensor([[[0.4842, 0.5042, 0.4983],\n",
       "          [0.4652, 0.5091, 0.4963],\n",
       "          [0.4440, 0.5141, 0.4940],\n",
       "          [0.4167, 0.5202, 0.4911],\n",
       "          [0.3737, 0.5286, 0.4865],\n",
       "          [0.3254, 0.5363, 0.4815],\n",
       "          [0.2539, 0.5447, 0.4741],\n",
       "          [0.1728, 0.5497, 0.4658],\n",
       "          [0.0000, 0.0000, 0.0000]],\n",
       " \n",
       "         [[0.4845, 0.5052, 0.4800],\n",
       "          [0.4658, 0.5110, 0.4558],\n",
       "          [0.0000, 0.0000, 0.0000],\n",
       "          [0.0000, 0.0000, 0.0000],\n",
       "          [0.0000, 0.0000, 0.0000],\n",
       "          [0.0000, 0.0000, 0.0000],\n",
       "          [0.0000, 0.0000, 0.0000],\n",
       "          [0.0000, 0.0000, 0.0000],\n",
       "          [0.0000, 0.0000, 0.0000]]]),\n",
       " [8, 2])"
      ]
     },
     "execution_count": 14,
     "metadata": {},
     "output_type": "execute_result"
    }
   ],
   "source": [
    "batch[\"inputs\"][2:], batch[\"input_lengths\"][2:]"
   ]
  },
  {
   "cell_type": "code",
   "execution_count": 15,
   "metadata": {},
   "outputs": [
    {
     "data": {
      "text/plain": [
       "tensor([[[0.4652, 0.5091, 0.4963],\n",
       "         [0.4440, 0.5141, 0.4940],\n",
       "         [0.4167, 0.5202, 0.4911],\n",
       "         [0.3737, 0.5286, 0.4865],\n",
       "         [0.3254, 0.5363, 0.4815],\n",
       "         [0.2539, 0.5447, 0.4741],\n",
       "         [0.1728, 0.5497, 0.4658],\n",
       "         [0.0918, 0.5502, 0.4576],\n",
       "         [0.0000, 0.0000, 0.0000]],\n",
       "\n",
       "        [[0.4658, 0.5110, 0.4558],\n",
       "         [0.4445, 0.5170, 0.4286],\n",
       "         [0.0000, 0.0000, 0.0000],\n",
       "         [0.0000, 0.0000, 0.0000],\n",
       "         [0.0000, 0.0000, 0.0000],\n",
       "         [0.0000, 0.0000, 0.0000],\n",
       "         [0.0000, 0.0000, 0.0000],\n",
       "         [0.0000, 0.0000, 0.0000],\n",
       "         [0.0000, 0.0000, 0.0000]]])"
      ]
     },
     "execution_count": 15,
     "metadata": {},
     "output_type": "execute_result"
    }
   ],
   "source": [
    "batch[\"targets\"][2:]"
   ]
  },
  {
   "cell_type": "code",
   "execution_count": 16,
   "metadata": {},
   "outputs": [
    {
     "data": {
      "text/plain": [
       "tensor([[ True,  True,  True,  True,  True,  True,  True,  True, False,  True,\n",
       "          True,  True,  True,  True,  True,  True, False],\n",
       "        [ True,  True, False, False, False, False, False, False, False,  True,\n",
       "         False, False, False, False, False, False, False]])"
      ]
     },
     "execution_count": 16,
     "metadata": {},
     "output_type": "execute_result"
    }
   ],
   "source": [
    "batch[\"target_mask\"][2:]"
   ]
  },
  {
   "cell_type": "markdown",
   "metadata": {},
   "source": [
    "### Verify min hit filter"
   ]
  },
  {
   "cell_type": "code",
   "execution_count": 36,
   "metadata": {},
   "outputs": [],
   "source": [
    "for step, batch in enumerate(val_loader):\n",
    "    if 1 in set(batch[\"input_lengths\"]):  # track with 2 hits\n",
    "        raise ValueError(\"Track with less than 3 hits found\")"
   ]
  }
 ],
 "metadata": {
  "kernelspec": {
   "display_name": "tracknet",
   "language": "python",
   "name": "python3"
  },
  "language_info": {
   "codemirror_mode": {
    "name": "ipython",
    "version": 3
   },
   "file_extension": ".py",
   "mimetype": "text/x-python",
   "name": "python",
   "nbconvert_exporter": "python",
   "pygments_lexer": "ipython3",
   "version": "3.12.8"
  }
 },
 "nbformat": 4,
 "nbformat_minor": 2
}
