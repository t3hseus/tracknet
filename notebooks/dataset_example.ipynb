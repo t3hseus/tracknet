{
 "cells": [
  {
   "cell_type": "code",
   "execution_count": 1,
   "metadata": {},
   "outputs": [],
   "source": [
    "import os\n",
    "from pathlib import Path\n",
    "\n",
    "# change working directory to make src visible\n",
    "os.chdir(Path.cwd().parent)"
   ]
  },
  {
   "cell_type": "markdown",
   "metadata": {},
   "source": [
    "## Usage of Tracks Dataset"
   ]
  },
  {
   "cell_type": "code",
   "execution_count": 2,
   "metadata": {},
   "outputs": [],
   "source": [
    "from src.tracknet.data.dataset import TrackMLTracksDataset\n",
    "\n",
    "dataset = TrackMLTracksDataset(\n",
    "    data_dirs=Path(\"data/trackml/train_100_events\"),\n",
    "    blacklist_dir=Path(\"data/trackml/blacklist_training\"),\n",
    "    min_hits=3,\n",
    "    validation_split=0.1,\n",
    ")"
   ]
  },
  {
   "cell_type": "code",
   "execution_count": 3,
   "metadata": {},
   "outputs": [
    {
     "name": "stderr",
     "output_type": "stream",
     "text": [
      "10000it [00:05, 1921.26it/s]"
     ]
    },
    {
     "name": "stdout",
     "output_type": "stream",
     "text": [
      "Track 290 with 13 hits, pT=1.08\n"
     ]
    },
    {
     "name": "stderr",
     "output_type": "stream",
     "text": [
      "\n"
     ]
    },
    {
     "data": {
      "text/plain": [
       "Track(\n",
       "\tevent_id=event000001018,\n",
       "\ttrack_id=290,\n",
       "\tparticle_id=270216458678566912,\n",
       "\thits=13,\n",
       "\tpx=0.65, py=-0.86, pz=7.24,\n",
       "\tpT=1.08, charge=1,\n",
       "\tdetector_info=[\n",
       "\t\tvol8-l2-m150\n",
       "\t\tvol8-l2-m166\n",
       "\t\tvol8-l4-m428\n",
       "\t\tvol9-l2-m36\n",
       "\t\tvol9-l2-m39\n",
       "\t\tvol9-l4-m40\n",
       "\t\tvol9-l6-m38\n",
       "\t\tvol9-l8-m38\n",
       "\t\tvol9-l10-m38\n",
       "\t\tvol14-l6-m58\n",
       "\t\tvol14-l8-m58\n",
       "\t\tvol14-l10-m58\n",
       "\t\tvol14-l12-m57\n",
       "\t]\n",
       ")"
      ]
     },
     "execution_count": 3,
     "metadata": {},
     "output_type": "execute_result"
    }
   ],
   "source": [
    "from tqdm import tqdm\n",
    "\n",
    "for i, sample in enumerate(tqdm(dataset)):\n",
    "    if i == 10000:\n",
    "        break\n",
    "print(sample)\n",
    "sample"
   ]
  },
  {
   "cell_type": "code",
   "execution_count": 4,
   "metadata": {},
   "outputs": [
    {
     "data": {
      "text/plain": [
       "array([[  18.7269,  -25.4278,  209.98  ],\n",
       "       [  19.0147,  -25.8346,  213.328 ],\n",
       "       [  42.3317,  -58.9278,  485.948 ],\n",
       "       [  51.7074,  -72.6563,  598.    ],\n",
       "       [  52.0456,  -73.1403,  602.    ],\n",
       "       [  60.2827,  -85.4704,  702.    ],\n",
       "       [  69.7289,  -99.8009,  818.    ],\n",
       "       [  80.8678, -117.212 ,  958.    ],\n",
       "       [  91.8168, -134.7   , 1098.    ],\n",
       "       [ 144.255 , -223.26  , 1798.5   ],\n",
       "       [ 168.742 , -267.478 , 2148.5   ],\n",
       "       [ 196.584 , -318.108 , 2548.5   ],\n",
       "       [ 224.887 , -369.526 , 2954.5   ]], dtype=float32)"
      ]
     },
     "execution_count": 4,
     "metadata": {},
     "output_type": "execute_result"
    }
   ],
   "source": [
    "sample.hits_xyz"
   ]
  },
  {
   "cell_type": "code",
   "execution_count": 5,
   "metadata": {},
   "outputs": [
    {
     "data": {
      "text/plain": [
       "array([[ 3.1579578e+01, -9.3600851e-01,  1.4927454e-01],\n",
       "       [ 3.2077801e+01, -9.3630469e-01,  1.4925027e-01],\n",
       "       [ 7.2556587e+01, -9.4785053e-01,  1.4821444e-01],\n",
       "       [ 8.9177315e+01, -9.5228016e-01,  1.4803502e-01],\n",
       "       [ 8.9767746e+01, -9.5233685e-01,  1.4802516e-01],\n",
       "       [ 1.0459060e+02, -9.5651883e-01,  1.4790149e-01],\n",
       "       [ 1.2174703e+02, -9.6095681e-01,  1.4775039e-01],\n",
       "       [ 1.4240173e+02, -9.6686238e-01,  1.4756432e-01],\n",
       "       [ 1.6301660e+02, -9.7249961e-01,  1.4739020e-01],\n",
       "       [ 2.6580920e+02, -9.9714643e-01,  1.4673272e-01],\n",
       "       [ 3.1625677e+02, -1.0079919e+00,  1.4614934e-01],\n",
       "       [ 3.7394916e+02, -1.0172619e+00,  1.4569336e-01],\n",
       "       [ 4.3257788e+02, -1.0240902e+00,  1.4538027e-01]], dtype=float32)"
      ]
     },
     "execution_count": 5,
     "metadata": {},
     "output_type": "execute_result"
    }
   ],
   "source": [
    "sample.hits_cylindrical"
   ]
  },
  {
   "cell_type": "markdown",
   "metadata": {},
   "source": [
    "## Dataset with transforms"
   ]
  },
  {
   "cell_type": "code",
   "execution_count": 6,
   "metadata": {},
   "outputs": [],
   "source": [
    "from src.tracknet.data.dataset import TrackMLTracksDataset\n",
    "from src.tracknet.data.transformations import MinMaxNormalizeXYZ, DropRepeatedLayerHits\n",
    "import numpy as np\n",
    "\n",
    "\n",
    "dataset = TrackMLTracksDataset(\n",
    "    data_dirs=Path(\"data/trackml/train_100_events\"),\n",
    "    blacklist_dir=Path(\"data/trackml/blacklist_training\"),\n",
    "    min_hits=3,\n",
    "    validation_split=0.1,\n",
    "    transforms=[\n",
    "        DropRepeatedLayerHits(),\n",
    "        MinMaxNormalizeXYZ(\n",
    "            min_xyz=np.array([-1000.0, -1000.0, -3000.0]),\n",
    "            max_xyz=np.array([1000.0, 1000.0, 3000.0])\n",
    "        )]\n",
    ")"
   ]
  },
  {
   "cell_type": "code",
   "execution_count": 7,
   "metadata": {},
   "outputs": [
    {
     "name": "stderr",
     "output_type": "stream",
     "text": [
      "10000it [00:05, 1868.43it/s]"
     ]
    },
    {
     "name": "stdout",
     "output_type": "stream",
     "text": [
      "Track 290 with 11 hits, pT=1.08\n"
     ]
    },
    {
     "name": "stderr",
     "output_type": "stream",
     "text": [
      "\n"
     ]
    },
    {
     "data": {
      "text/plain": [
       "Track(\n",
       "\tevent_id=event000001018,\n",
       "\ttrack_id=290,\n",
       "\tparticle_id=270216458678566912,\n",
       "\thits=11,\n",
       "\tpx=0.65, py=-0.86, pz=7.24,\n",
       "\tpT=1.08, charge=1,\n",
       "\tdetector_info=[\n",
       "\t\tvol8-l2-m150\n",
       "\t\tvol8-l4-m428\n",
       "\t\tvol9-l2-m36\n",
       "\t\tvol9-l4-m40\n",
       "\t\tvol9-l6-m38\n",
       "\t\tvol9-l8-m38\n",
       "\t\tvol9-l10-m38\n",
       "\t\tvol14-l6-m58\n",
       "\t\tvol14-l8-m58\n",
       "\t\tvol14-l10-m58\n",
       "\t\tvol14-l12-m57\n",
       "\t]\n",
       ")"
      ]
     },
     "execution_count": 7,
     "metadata": {},
     "output_type": "execute_result"
    }
   ],
   "source": [
    "from tqdm import tqdm\n",
    "\n",
    "for i, sample in enumerate(tqdm(dataset)):\n",
    "    if i == 10000:\n",
    "        break\n",
    "print(sample)\n",
    "sample"
   ]
  },
  {
   "cell_type": "code",
   "execution_count": 8,
   "metadata": {},
   "outputs": [
    {
     "data": {
      "text/plain": [
       "array([[0.5093635 , 0.4872861 , 0.5349967 ],\n",
       "       [0.52116585, 0.4705361 , 0.5809913 ],\n",
       "       [0.5258537 , 0.46367183, 0.59966666],\n",
       "       [0.53014135, 0.4572648 , 0.617     ],\n",
       "       [0.5348644 , 0.45009956, 0.63633335],\n",
       "       [0.5404339 , 0.441394  , 0.65966666],\n",
       "       [0.5459084 , 0.43265   , 0.683     ],\n",
       "       [0.5721275 , 0.38837   , 0.79975   ],\n",
       "       [0.584371  , 0.36626098, 0.8580833 ],\n",
       "       [0.598292  , 0.340946  , 0.92475   ],\n",
       "       [0.6124435 , 0.315237  , 0.9924167 ]], dtype=float32)"
      ]
     },
     "execution_count": 8,
     "metadata": {},
     "output_type": "execute_result"
    }
   ],
   "source": [
    "sample.hits_xyz"
   ]
  },
  {
   "cell_type": "code",
   "execution_count": 12,
   "metadata": {},
   "outputs": [
    {
     "data": {
      "text/plain": [
       "array([[ 3.1579578e+01, -9.3600851e-01,  1.4927454e-01],\n",
       "       [ 3.2077801e+01, -9.3630469e-01,  1.4925027e-01],\n",
       "       [ 7.2556587e+01, -9.4785053e-01,  1.4821444e-01],\n",
       "       [ 8.9177315e+01, -9.5228016e-01,  1.4803502e-01],\n",
       "       [ 8.9767746e+01, -9.5233685e-01,  1.4802516e-01],\n",
       "       [ 1.0459060e+02, -9.5651883e-01,  1.4790149e-01],\n",
       "       [ 1.2174703e+02, -9.6095681e-01,  1.4775039e-01],\n",
       "       [ 1.4240173e+02, -9.6686238e-01,  1.4756432e-01],\n",
       "       [ 1.6301660e+02, -9.7249961e-01,  1.4739020e-01],\n",
       "       [ 2.6580920e+02, -9.9714643e-01,  1.4673272e-01],\n",
       "       [ 3.1625677e+02, -1.0079919e+00,  1.4614934e-01],\n",
       "       [ 3.7394916e+02, -1.0172619e+00,  1.4569336e-01],\n",
       "       [ 4.3257788e+02, -1.0240902e+00,  1.4538027e-01]], dtype=float32)"
      ]
     },
     "execution_count": 12,
     "metadata": {},
     "output_type": "execute_result"
    }
   ],
   "source": [
    "sample.hits_cylindrical"
   ]
  },
  {
   "cell_type": "code",
   "execution_count": 9,
   "metadata": {},
   "outputs": [
    {
     "data": {
      "text/plain": [
       "array([[ 3.1579578e+01, -9.3600851e-01,  1.4927454e-01],\n",
       "       [ 7.2556587e+01, -9.4785053e-01,  1.4821444e-01],\n",
       "       [ 8.9177315e+01, -9.5228016e-01,  1.4803502e-01],\n",
       "       [ 1.0459060e+02, -9.5651883e-01,  1.4790149e-01],\n",
       "       [ 1.2174703e+02, -9.6095681e-01,  1.4775039e-01],\n",
       "       [ 1.4240173e+02, -9.6686238e-01,  1.4756432e-01],\n",
       "       [ 1.6301660e+02, -9.7249961e-01,  1.4739020e-01],\n",
       "       [ 2.6580920e+02, -9.9714643e-01,  1.4673272e-01],\n",
       "       [ 3.1625677e+02, -1.0079919e+00,  1.4614934e-01],\n",
       "       [ 3.7394916e+02, -1.0172619e+00,  1.4569336e-01],\n",
       "       [ 4.3257788e+02, -1.0240902e+00,  1.4538027e-01]], dtype=float32)"
      ]
     },
     "execution_count": 9,
     "metadata": {},
     "output_type": "execute_result"
    }
   ],
   "source": [
    "sample.hits_cylindrical"
   ]
  },
  {
   "cell_type": "markdown",
   "metadata": {},
   "source": [
    "## Usage in a DataLoader"
   ]
  },
  {
   "cell_type": "code",
   "execution_count": 23,
   "metadata": {},
   "outputs": [],
   "source": [
    "import numpy as np\n",
    "from torch.utils.data import DataLoader\n",
    "from src.tracknet.data.dataset import TrackMLTracksDataset\n",
    "from src.tracknet.data.transformations import MinMaxNormalizeXYZ, DropRepeatedLayerHits\n",
    "from src.tracknet.data.utils import collate_fn\n",
    "\n",
    "BATCH_SIZE = 4\n",
    "\n",
    "val_dataset = TrackMLTracksDataset(\n",
    "    data_dirs=Path(\"data/trackml/train_100_events\"),\n",
    "    blacklist_dir=Path(\"data/trackml/blacklist_training\"),\n",
    "    min_hits=3,\n",
    "    validation_split=0.1,\n",
    "    split=\"validation\",\n",
    "    transforms=[\n",
    "        DropRepeatedLayerHits(),\n",
    "        MinMaxNormalizeXYZ(\n",
    "            min_xyz=np.array([-1000.0, -1000.0, -3000.0]),\n",
    "            max_xyz=np.array([1000.0, 1000.0, 3000.0])\n",
    "        )]\n",
    ")\n",
    "\n",
    "val_loader = DataLoader(\n",
    "    val_dataset,\n",
    "    batch_size=BATCH_SIZE,\n",
    "    collate_fn=collate_fn,\n",
    "    num_workers=4,\n",
    "    persistent_workers=True,\n",
    ")"
   ]
  },
  {
   "cell_type": "code",
   "execution_count": 24,
   "metadata": {},
   "outputs": [
    {
     "name": "stdout",
     "output_type": "stream",
     "text": [
      "tensor([[0.5140, 0.5083, 0.4897],\n",
      "        [0.5309, 0.5180, 0.4774],\n",
      "        [0.5503, 0.5289, 0.4633],\n",
      "        [0.5751, 0.5424, 0.4455],\n",
      "        [0.6126, 0.5618, 0.4188],\n",
      "        [0.6579, 0.5839, 0.3870],\n",
      "        [0.7233, 0.6133, 0.3417],\n",
      "        [0.7889, 0.6398, 0.2969],\n",
      "        [0.8572, 0.6646, 0.2509]])\n",
      "tensor([[0.5309, 0.5180, 0.4774],\n",
      "        [0.5503, 0.5289, 0.4633],\n",
      "        [0.5751, 0.5424, 0.4455],\n",
      "        [0.6126, 0.5618, 0.4188],\n",
      "        [0.6579, 0.5839, 0.3870],\n",
      "        [0.7233, 0.6133, 0.3417],\n",
      "        [0.7889, 0.6398, 0.2969],\n",
      "        [0.8572, 0.6646, 0.2509],\n",
      "        [0.9367, 0.6904, 0.1991]])\n",
      "\n",
      "tensor([[0.5143, 0.5068, 0.4878],\n",
      "        [0.5329, 0.5156, 0.4718],\n",
      "        [0.5523, 0.5245, 0.4553],\n",
      "        [0.5781, 0.5360, 0.4335],\n",
      "        [0.6198, 0.5539, 0.3984],\n",
      "        [0.6661, 0.5727, 0.3597],\n",
      "        [0.7425, 0.6016, 0.2964],\n",
      "        [0.7985, 0.6212, 0.2508],\n",
      "        [0.8616, 0.6418, 0.2004]])\n",
      "tensor([[0.5329, 0.5156, 0.4718],\n",
      "        [0.5523, 0.5245, 0.4553],\n",
      "        [0.5781, 0.5360, 0.4335],\n",
      "        [0.6198, 0.5539, 0.3984],\n",
      "        [0.6661, 0.5727, 0.3597],\n",
      "        [0.7425, 0.6016, 0.2964],\n",
      "        [0.7985, 0.6212, 0.2508],\n",
      "        [0.8616, 0.6418, 0.2004],\n",
      "        [0.9314, 0.6630, 0.1412]])\n",
      "\n",
      "tensor([[0.4874, 0.4901, 0.4956],\n",
      "        [0.4713, 0.4778, 0.4899],\n",
      "        [0.4537, 0.4650, 0.4840],\n",
      "        [0.4309, 0.4492, 0.4763],\n",
      "        [0.3918, 0.4240, 0.4635],\n",
      "        [0.3516, 0.4007, 0.4506],\n",
      "        [0.2857, 0.3674, 0.4302],\n",
      "        [0.2140, 0.3375, 0.4089],\n",
      "        [0.1376, 0.3122, 0.3861]])\n",
      "tensor([[0.4713, 0.4778, 0.4899],\n",
      "        [0.4537, 0.4650, 0.4840],\n",
      "        [0.4309, 0.4492, 0.4763],\n",
      "        [0.3918, 0.4240, 0.4635],\n",
      "        [0.3516, 0.4007, 0.4506],\n",
      "        [0.2857, 0.3674, 0.4302],\n",
      "        [0.2140, 0.3375, 0.4089],\n",
      "        [0.1376, 0.3122, 0.3861],\n",
      "        [0.0358, 0.2880, 0.3582]])\n",
      "\n",
      "tensor([[0.4856, 0.4929, 0.4996],\n",
      "        [0.4673, 0.4842, 0.4990],\n",
      "        [0.4477, 0.4751, 0.4985],\n",
      "        [0.4219, 0.4636, 0.4977],\n",
      "        [0.3802, 0.4458, 0.4965],\n",
      "        [0.3338, 0.4274, 0.4953],\n",
      "        [0.2672, 0.4034, 0.4934],\n",
      "        [0.1946, 0.3802, 0.4913],\n",
      "        [0.1152, 0.3585, 0.4891]])\n",
      "tensor([[0.4673, 0.4842, 0.4990],\n",
      "        [0.4477, 0.4751, 0.4985],\n",
      "        [0.4219, 0.4636, 0.4977],\n",
      "        [0.3802, 0.4458, 0.4965],\n",
      "        [0.3338, 0.4274, 0.4953],\n",
      "        [0.2672, 0.4034, 0.4934],\n",
      "        [0.1946, 0.3802, 0.4913],\n",
      "        [0.1152, 0.3585, 0.4891],\n",
      "        [0.0164, 0.3364, 0.4873]])\n",
      "\n"
     ]
    }
   ],
   "source": [
    "for step, batch in enumerate(val_loader):\n",
    "    if step == 10:\n",
    "        break\n",
    "\n",
    "for i in range(BATCH_SIZE):\n",
    "    print(batch[\"inputs\"][i])\n",
    "    print(batch[\"targets\"][i])\n",
    "    print()"
   ]
  },
  {
   "cell_type": "code",
   "execution_count": 25,
   "metadata": {},
   "outputs": [
    {
     "name": "stderr",
     "output_type": "stream",
     "text": [
      "12148it [00:08, 1425.57it/s]\n"
     ]
    }
   ],
   "source": [
    "from tqdm import tqdm\n",
    "\n",
    "for i, batch in enumerate(tqdm(val_loader)):\n",
    "    _ = batch[\"inputs\"]"
   ]
  }
 ],
 "metadata": {
  "kernelspec": {
   "display_name": "tracknet",
   "language": "python",
   "name": "python3"
  },
  "language_info": {
   "codemirror_mode": {
    "name": "ipython",
    "version": 3
   },
   "file_extension": ".py",
   "mimetype": "text/x-python",
   "name": "python",
   "nbconvert_exporter": "python",
   "pygments_lexer": "ipython3",
   "version": "3.12.8"
  }
 },
 "nbformat": 4,
 "nbformat_minor": 2
}
